{
 "cells": [
  {
   "cell_type": "code",
   "execution_count": 1,
   "metadata": {},
   "outputs": [
    {
     "name": "stdout",
     "output_type": "stream",
     "text": [
      "Before the function call\n",
      "Hello!\n",
      "After the function call\n"
     ]
    }
   ],
   "source": [
    "def decorator(func):\n",
    "    def wrapper():\n",
    "        print(\"Before the function call\")\n",
    "        func()\n",
    "        print(\"After the function call\")\n",
    "    return wrapper\n",
    "\n",
    "@decorator\n",
    "def say_hello():\n",
    "    print(\"Hello!\")\n",
    "\n",
    "say_hello()"
   ]
  },
  {
   "cell_type": "code",
   "execution_count": 2,
   "metadata": {},
   "outputs": [
    {
     "name": "stdout",
     "output_type": "stream",
     "text": [
      "15\n"
     ]
    }
   ],
   "source": [
    "class Math:\n",
    "    @staticmethod\n",
    "    def add(a, b):\n",
    "        return a + b\n",
    "\n",
    "print(Math.add(5, 10))  # Output: 15\n"
   ]
  },
  {
   "cell_type": "code",
   "execution_count": 3,
   "metadata": {},
   "outputs": [
    {
     "name": "stdout",
     "output_type": "stream",
     "text": [
      "Homo erectus\n"
     ]
    }
   ],
   "source": [
    "class Person:\n",
    "    species = \"Homo sapiens\"\n",
    "\n",
    "    @classmethod\n",
    "    def set_species(cls, new_species):\n",
    "        cls.species = new_species\n",
    "\n",
    "Person.set_species(\"Homo erectus\")\n",
    "print(Person.species)  # Output: Homo erectus\n"
   ]
  },
  {
   "cell_type": "code",
   "execution_count": 4,
   "metadata": {},
   "outputs": [
    {
     "name": "stdout",
     "output_type": "stream",
     "text": [
      "Calling function multiply with arguments (2, 3) and {}\n",
      "multiply returned 6\n"
     ]
    },
    {
     "data": {
      "text/plain": [
       "6"
      ]
     },
     "execution_count": 4,
     "metadata": {},
     "output_type": "execute_result"
    }
   ],
   "source": [
    "def log_decorator(func):\n",
    "    def wrapper(*args, **kwargs):\n",
    "        print(f\"Calling function {func.__name__} with arguments {args} and {kwargs}\")\n",
    "        result = func(*args, **kwargs)\n",
    "        print(f\"{func.__name__} returned {result}\")\n",
    "        return result\n",
    "    return wrapper\n",
    "\n",
    "@log_decorator\n",
    "def multiply(a, b):\n",
    "    return a * b\n",
    "\n",
    "multiply(2, 3)\n",
    "# Output:\n",
    "# Calling function multiply with arguments (2, 3) and {}\n",
    "# multiply returned 6\n"
   ]
  },
  {
   "cell_type": "code",
   "execution_count": 5,
   "metadata": {},
   "outputs": [
    {
     "name": "stdout",
     "output_type": "stream",
     "text": [
      "Calling function multiply with arguments (2, 3) and {}\n",
      "multiply returned 6\n"
     ]
    },
    {
     "data": {
      "text/plain": [
       "6"
      ]
     },
     "execution_count": 5,
     "metadata": {},
     "output_type": "execute_result"
    }
   ],
   "source": [
    "def log_decorator(func):\n",
    "    def wrapper(*args, **kwargs):\n",
    "        print(f\"Calling function {func.__name__} with arguments {args} and {kwargs}\")\n",
    "        result = func(*args, **kwargs)\n",
    "        print(f\"{func.__name__} returned {result}\")\n",
    "        return result \n",
    "    \n",
    "    return wrapper \n",
    "@log_decorator\n",
    "def multiply(a, b):\n",
    "    return a * b \n",
    "\n",
    "multiply(2, 3)\n"
   ]
  },
  {
   "cell_type": "code",
   "execution_count": 6,
   "metadata": {},
   "outputs": [
    {
     "name": "stdout",
     "output_type": "stream",
     "text": [
      "5\n"
     ]
    }
   ],
   "source": [
    "add = lambda x, y: x + y \n",
    "print(add(2,3))  "
   ]
  },
  {
   "cell_type": "code",
   "execution_count": 7,
   "metadata": {},
   "outputs": [
    {
     "name": "stdout",
     "output_type": "stream",
     "text": [
      "[1, 4, 9, 16]\n"
     ]
    }
   ],
   "source": [
    "nums = [1, 2, 3, 4]\n",
    "squares = map(lambda x: x ** 2, nums)\n",
    "print(list(squares)) "
   ]
  },
  {
   "cell_type": "code",
   "execution_count": 9,
   "metadata": {},
   "outputs": [
    {
     "name": "stdout",
     "output_type": "stream",
     "text": [
      "[2, 4]\n"
     ]
    }
   ],
   "source": [
    "nums = [1, 2, 3, 4]\n",
    "evens = filter(lambda x: x % 2 == 0, nums)\n",
    "print(list(evens))\n"
   ]
  },
  {
   "cell_type": "code",
   "execution_count": 10,
   "metadata": {},
   "outputs": [
    {
     "name": "stdout",
     "output_type": "stream",
     "text": [
      "['apple', 'banana', 'cherry']\n"
     ]
    }
   ],
   "source": [
    "words = ['apple', 'banana', 'cherry']\n",
    "sorted_words = sorted(words, key=lambda x: len(x))\n",
    "print(sorted_words)\n"
   ]
  },
  {
   "cell_type": "code",
   "execution_count": 11,
   "metadata": {},
   "outputs": [
    {
     "name": "stdout",
     "output_type": "stream",
     "text": [
      "[0, 1, 4, 9]\n"
     ]
    }
   ],
   "source": [
    "squares = [x **2 for x in range(4)]\n",
    "print(squares)"
   ]
  },
  {
   "cell_type": "code",
   "execution_count": 12,
   "metadata": {},
   "outputs": [
    {
     "name": "stdout",
     "output_type": "stream",
     "text": [
      "[0, 2, 4, 6, 8]\n"
     ]
    }
   ],
   "source": [
    "evens = [x for x in range(10) if x % 2 == 0]\n",
    "print(evens)"
   ]
  },
  {
   "cell_type": "code",
   "execution_count": 13,
   "metadata": {},
   "outputs": [
    {
     "name": "stdout",
     "output_type": "stream",
     "text": [
      "[[0, 1, 2], [0, 1, 2], [0, 1, 2]]\n"
     ]
    }
   ],
   "source": [
    "matrix = [[j for j in range(3)] for i in range(3)]\n",
    "print(matrix)"
   ]
  },
  {
   "cell_type": "code",
   "execution_count": 14,
   "metadata": {},
   "outputs": [
    {
     "name": "stdout",
     "output_type": "stream",
     "text": [
      "['HELLO', 'WORLD']\n"
     ]
    }
   ],
   "source": [
    "uppercase = [word.upper() for word in [\"hello\", \"world\"]]\n",
    "print(uppercase)"
   ]
  },
  {
   "cell_type": "code",
   "execution_count": 18,
   "metadata": {},
   "outputs": [
    {
     "name": "stdout",
     "output_type": "stream",
     "text": [
      "String not a palindrome\n"
     ]
    }
   ],
   "source": [
    "def is_palindrome(s):\n",
    "    s = ''.join(s.split()).lower()\n",
    "\n",
    "    if s == s[::-1]:\n",
    "        return \"String is palindrome\"\n",
    "    else:\n",
    "        return \"String not a palindrome\"\n",
    "\n",
    "s = input(\"Enter string:\")\n",
    "print(is_palindrome(s))"
   ]
  },
  {
   "cell_type": "code",
   "execution_count": 19,
   "metadata": {},
   "outputs": [
    {
     "name": "stdout",
     "output_type": "stream",
     "text": [
      "madaM\n"
     ]
    }
   ],
   "source": [
    "def reverse_str_without_slicing(s):\n",
    "    reverse_str = \"\"\n",
    "\n",
    "    for ch in s:\n",
    "        reverse_str = ch + reverse_str \n",
    "    return reverse_str \n",
    "\n",
    "s = input(\"Enter string:\")\n",
    "print(reverse_str_without_slicing(s))"
   ]
  },
  {
   "cell_type": "code",
   "execution_count": 21,
   "metadata": {},
   "outputs": [
    {
     "name": "stdout",
     "output_type": "stream",
     "text": [
      "120\n"
     ]
    }
   ],
   "source": [
    "def factorial_of_num(n):\n",
    "    if n == 0 or n == 1:\n",
    "        return 1 \n",
    "    \n",
    "    return n * factorial_of_num(n-1)\n",
    "\n",
    "n = int(input(\"Enter number: \"))\n",
    "if n < 0:\n",
    "    print('factorial is not defined for negative integers')\n",
    "else:\n",
    "    print(factorial_of_num(n))"
   ]
  },
  {
   "cell_type": "code",
   "execution_count": null,
   "metadata": {},
   "outputs": [
    {
     "name": "stdout",
     "output_type": "stream",
     "text": [
      "8 is not prime\n"
     ]
    }
   ],
   "source": [
    "def is_prime(n):\n",
    "    if n <= 1:\n",
    "        print('Prime number is greater then 1')\n",
    "\n",
    "    for i in range() \n",
    "    \n",
    "\n",
    "n = int(input(\"Enter number:\"))\n",
    "\n",
    "if is_prime(n) == True:\n",
    "    print(f'{n} is prime number')\n",
    "else:\n",
    "    print(f'{n} is not prime') "
   ]
  },
  {
   "cell_type": "code",
   "execution_count": 25,
   "metadata": {},
   "outputs": [
    {
     "name": "stdout",
     "output_type": "stream",
     "text": [
      "[1, 2, 3, 4]\n",
      "[12, 13, 14, 5]\n",
      "[11, 16, 15, 6]\n",
      "[10, 9, 8, 7]\n"
     ]
    }
   ],
   "source": [
    "def generate_spiral_matrix(n):\n",
    "    # Initialize an empty NxN matrix\n",
    "    matrix = [[0] * n for _ in range(n)]\n",
    "    \n",
    "    # Define the boundaries for the spiral\n",
    "    top, bottom, left, right = 0, n - 1, 0, n - 1\n",
    "    num = 1  # Start filling numbers from 1 to n^2\n",
    "    \n",
    "    while num <= n * n:\n",
    "        # Fill the top row (left to right)\n",
    "        for col in range(left, right + 1):\n",
    "            matrix[top][col] = num\n",
    "            num += 1\n",
    "        top += 1  # Move the top boundary down\n",
    "        \n",
    "        # Fill the right column (top to bottom)\n",
    "        for row in range(top, bottom + 1):\n",
    "            matrix[row][right] = num\n",
    "            num += 1\n",
    "        right -= 1  # Move the right boundary left\n",
    "        \n",
    "        # Fill the bottom row (right to left)\n",
    "        for col in range(right, left - 1, -1):\n",
    "            matrix[bottom][col] = num\n",
    "            num += 1\n",
    "        bottom -= 1  # Move the bottom boundary up\n",
    "        \n",
    "        # Fill the left column (bottom to top)\n",
    "        for row in range(bottom, top - 1, -1):\n",
    "            matrix[row][left] = num\n",
    "            num += 1\n",
    "        left += 1  # Move the left boundary right\n",
    "    \n",
    "    return matrix\n",
    "\n",
    "# Example usage\n",
    "n = 4\n",
    "result = generate_spiral_matrix(n)\n",
    "for row in result:\n",
    "    print(row)\n"
   ]
  },
  {
   "cell_type": "markdown",
   "metadata": {},
   "source": [
    "Leetcode 54 -> Spiral Matrix \n",
    "\n",
    "Given an m * n matrix, return all elements of the matrix in spiral order.\n",
    "\n",
    "Example 1:\n",
    "\n",
    "Input :  matrix = [[1, 2, 3], [4, 5, 6], [7, 8, 9]]\n",
    "\n",
    "Output : [1, 2, 3, 6, 9, 8, 7, 4, 5]\n",
    "\n",
    "Example 2:\n",
    "\n",
    "Input: matrix = [[1, 2, 3, 4], [5,6,7,8],[9,10,11,12]]\n",
    "\n",
    "Output: [1,2,3,4,8,12,11,10,9,5,6,7]"
   ]
  },
  {
   "cell_type": "code",
   "execution_count": 26,
   "metadata": {},
   "outputs": [
    {
     "name": "stdout",
     "output_type": "stream",
     "text": [
      "[1, 2, 3, 4, 8, 12, 11, 10, 9, 5, 6, 7]\n"
     ]
    }
   ],
   "source": [
    "from typing import List \n",
    "class Solution:\n",
    "    def spiralOrder(self, matrix: List[List[int]]) -> List[int]:\n",
    "        res = []\n",
    "        left, right = 0, len(matrix[0])\n",
    "        top, bottom = 0, len(matrix)\n",
    "\n",
    "        while left < right and top < bottom:\n",
    "            # get every i in the top row \n",
    "            for i in range(left, right):\n",
    "                res.append(matrix[top][i])\n",
    "            top += 1\n",
    "            # get every i in the right col \n",
    "            for i in range(top, bottom):\n",
    "                res.append(matrix[i][right - 1])\n",
    "            right -= 1\n",
    "            if not (left < right and top < bottom):\n",
    "                break \n",
    "            # get every i in the bottom row \n",
    "            for i in range(right - 1, left - 1, -1):\n",
    "                res.append(matrix[bottom - 1][i])\n",
    "            bottom -= 1\n",
    "            # get every i in the left col \n",
    "            for i in range(bottom - 1, top - 1, -1):\n",
    "                res.append(matrix[i][left])\n",
    "            left += 1\n",
    "\n",
    "        return res \n",
    "    \n",
    "\n",
    "sol = Solution()\n",
    "matrix = [[1,2,3,4],[5,6,7,8],[9,10,11,12]]\n",
    "spiral_list = sol.spiralOrder(matrix)\n",
    "print(spiral_list)\n"
   ]
  },
  {
   "cell_type": "code",
   "execution_count": 13,
   "metadata": {},
   "outputs": [],
   "source": [
    "class Solution:\n",
    "    def spiralMatrix(self, matrix: List[List[int]])-> List[int]:\n",
    "        res = []\n",
    "        left, right = 0, len(matrix[0])\n",
    "        top, bottom = 0, len(matrix)\n",
    "\n",
    "        while left < right and top < bottom:\n",
    "            for i in range(left, right):\n",
    "                res.append(matrix[top][i])\n",
    "            top += 1\n",
    "\n",
    "            for i in range(top, bottom):\n",
    "                res.append(matrix[i][right-1])\n",
    "            right -= 1 \n",
    "\n",
    "            if not (left < right and top < bottom):\n",
    "                break \n",
    "\n",
    "            for i in range(right-1,left-1, -1):\n",
    "                res.append(matrix[bottom-1][i])\n",
    "            bottom -= 1\n",
    "\n",
    "            for i in range(bottom-1, top-1, -1):\n",
    "                res.append(matrix[i][left])\n",
    "            left += 1\n",
    "\n",
    "        return res "
   ]
  },
  {
   "cell_type": "code",
   "execution_count": 15,
   "metadata": {},
   "outputs": [
    {
     "name": "stdout",
     "output_type": "stream",
     "text": [
      "[1, 2, 3, 4, 8, 12, 11, 10, 9, 5, 6, 7]\n"
     ]
    }
   ],
   "source": [
    "sol = Solution()\n",
    "matrix = [[1,2,3,4],[5,6,7,8],[9,10,11,12]]\n",
    "spiral_list = sol.spiralMatrix(matrix)\n",
    "print(spiral_list)"
   ]
  }
 ],
 "metadata": {
  "kernelspec": {
   "display_name": "watsapp",
   "language": "python",
   "name": "watsapp"
  },
  "language_info": {
   "codemirror_mode": {
    "name": "ipython",
    "version": 3
   },
   "file_extension": ".py",
   "mimetype": "text/x-python",
   "name": "python",
   "nbconvert_exporter": "python",
   "pygments_lexer": "ipython3",
   "version": "3.6.13"
  }
 },
 "nbformat": 4,
 "nbformat_minor": 2
}
